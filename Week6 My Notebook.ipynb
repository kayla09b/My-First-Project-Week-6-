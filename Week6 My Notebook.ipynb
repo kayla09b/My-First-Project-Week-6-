{
 "cells": [
  {
   "cell_type": "markdown",
   "id": "0bff3fbe",
   "metadata": {},
   "source": [
    "# Data Science Tools and Ecosystem\n"
   ]
  },
  {
   "cell_type": "markdown",
   "id": "98e6eafb",
   "metadata": {},
   "source": [
    "*In this notebook, Data Science Tools and Ecosystem are summarized.*"
   ]
  },
  {
   "cell_type": "markdown",
   "id": "29cdfe77",
   "metadata": {},
   "source": [
    "**Objectives:**\n",
    "\n",
    "* List popular languages for Data Science.\n",
    "* List commonly used libraries used by Data Scientists.\n",
    "* Create a table of common open-sourced Data Science tools.\n",
    "* Demonstrate the ability to code simple expressions.\n",
    "* Demonstrate the ability to format text using various heading styles, font styles, as well as in ordered and unordered lists."
   ]
  },
  {
   "cell_type": "markdown",
   "id": "712b9ce5",
   "metadata": {},
   "source": [
    "Some of the popular languages that Data Scientists use are:\n",
    "\n",
    "    1. Python\n",
    "    2. SQL\n",
    "    3. R\n",
    "    4. Scala\n",
    "    5. Julia"
   ]
  },
  {
   "cell_type": "markdown",
   "id": "88eec692",
   "metadata": {},
   "source": [
    "Some of the commonly used libraries used by Data Scientists include:\n",
    "    \n",
    "    1. Pandas\n",
    "    2. NumPy\n",
    "    3. MatPlotLib\n",
    "    4. Seaborn\n",
    "    5. Scikit-Learn\n",
    "    "
   ]
  },
  {
   "cell_type": "markdown",
   "id": "6bec2951",
   "metadata": {},
   "source": [
    "|Data Science Tools|\n",
    "-------------------\n",
    "|Jupyter Notebooks|\n",
    "|RStudio|\n",
    "|Apache Spark|\n",
    "|Git|"
   ]
  },
  {
   "cell_type": "markdown",
   "id": "50acebfb",
   "metadata": {},
   "source": [
    "### Below are a few examples of evaluating arithmetic expressions in Python."
   ]
  },
  {
   "cell_type": "code",
   "execution_count": 3,
   "id": "64e89e6c",
   "metadata": {},
   "outputs": [
    {
     "name": "stdout",
     "output_type": "stream",
     "text": [
      "This is a simple arithmetic expression to multiply then add integers.\n"
     ]
    },
    {
     "data": {
      "text/plain": [
       "17"
      ]
     },
     "execution_count": 3,
     "metadata": {},
     "output_type": "execute_result"
    }
   ],
   "source": [
    "print(\"This is a simple arithmetic expression to multiply then add integers.\")\n",
    "(3*4)+5"
   ]
  },
  {
   "cell_type": "code",
   "execution_count": 4,
   "id": "0a52d8ca",
   "metadata": {},
   "outputs": [
    {
     "name": "stdout",
     "output_type": "stream",
     "text": [
      "This expression will convert 200 minutes into hours by dividing by 60.\n"
     ]
    },
    {
     "data": {
      "text/plain": [
       "3.3333333333333335"
      ]
     },
     "execution_count": 4,
     "metadata": {},
     "output_type": "execute_result"
    }
   ],
   "source": [
    "print(\"This expression will convert 200 minutes into hours by dividing by 60.\")\n",
    "(200/60)"
   ]
  },
  {
   "cell_type": "markdown",
   "id": "724eaa6e",
   "metadata": {},
   "source": [
    "## Author \n",
    "Kayla Bartolomeo-Goad"
   ]
  },
  {
   "cell_type": "code",
   "execution_count": null,
   "id": "f730da3f",
   "metadata": {},
   "outputs": [],
   "source": []
  }
 ],
 "metadata": {
  "kernelspec": {
   "display_name": "Python 3 (ipykernel)",
   "language": "python",
   "name": "python3"
  },
  "language_info": {
   "codemirror_mode": {
    "name": "ipython",
    "version": 3
   },
   "file_extension": ".py",
   "mimetype": "text/x-python",
   "name": "python",
   "nbconvert_exporter": "python",
   "pygments_lexer": "ipython3",
   "version": "3.11.5"
  }
 },
 "nbformat": 4,
 "nbformat_minor": 5
}
